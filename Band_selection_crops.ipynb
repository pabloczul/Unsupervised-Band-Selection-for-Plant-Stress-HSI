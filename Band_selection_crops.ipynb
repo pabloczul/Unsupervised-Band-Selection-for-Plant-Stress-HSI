{
 "cells": [
  {
   "cell_type": "markdown",
   "metadata": {},
   "source": []
  },
  {
   "cell_type": "code",
   "execution_count": 2,
   "metadata": {},
   "outputs": [],
   "source": [
    "import os\n",
    "import numpy as np\n",
    "import pandas as pd\n",
    "from scipy.io import loadmat\n",
    "\n",
    "from Toolbox_GCSR.Preprocessing import Processor\n",
    "from sklearn.preprocessing import minmax_scale\n",
    "from Toolbox_GCSR.utility import eval_band, eval_band_cv\n",
    "from Toolbox_GCSR.EGCSR_BS_Ranking import EGCSR_BS_Ranking\n",
    "\n",
    "from Toolbox_bombs.runner import main\n",
    "from Toolbox_bombs.utils import Arguments\n",
    "\n",
    "import matlab.engine\n",
    "eng = matlab.engine.start_matlab()\n",
    "\n",
    "eng.addpath(eng.genpath(\"Toolbox_SVD\"));\n",
    "eng.addpath(eng.genpath(\"Toolbox_OCF\"));"
   ]
  },
  {
   "cell_type": "markdown",
   "metadata": {},
   "source": [
    "Data Importation and adequation"
   ]
  },
  {
   "cell_type": "code",
   "execution_count": 3,
   "metadata": {},
   "outputs": [],
   "source": [
    "root = 'D:\\Python\\HSI_Files\\\\'\n",
    "im_, gt_ = 'CornData', 'CornLabels'\n",
    "\n",
    "img_path = root + im_ + '.mat'\n",
    "gt_path = root + gt_ + '.mat'\n",
    "\n",
    "p = Processor()\n",
    "data, labels = p.prepare_data(img_path, gt_path)\n",
    "\n"
   ]
  },
  {
   "cell_type": "markdown",
   "metadata": {},
   "source": [
    "Data importation matlab"
   ]
  },
  {
   "cell_type": "code",
   "execution_count": null,
   "metadata": {},
   "outputs": [],
   "source": [
    "data_m = eng.double(eng.importdata(img_path))"
   ]
  },
  {
   "cell_type": "markdown",
   "metadata": {},
   "source": [
    "Parameters and variables"
   ]
  },
  {
   "cell_type": "code",
   "execution_count": 11,
   "metadata": {},
   "outputs": [],
   "source": [
    "b_num = 8\n"
   ]
  },
  {
   "cell_type": "markdown",
   "metadata": {},
   "source": [
    "Algoritmo SVD"
   ]
  },
  {
   "cell_type": "code",
   "execution_count": null,
   "metadata": {},
   "outputs": [],
   "source": [
    "select_svd = eng.svd_function(data_m, b_num);\n",
    "\n",
    "b = np.array(select_svd)\n",
    "\n",
    "print(b.reshape(1,b_num))\n",
    "print(np.delete(b.reshape(1,b_num),0))"
   ]
  },
  {
   "cell_type": "markdown",
   "metadata": {},
   "source": [
    "Algoritmo OCF"
   ]
  },
  {
   "cell_type": "code",
   "execution_count": 15,
   "metadata": {},
   "outputs": [],
   "source": [
    "\n",
    "\n",
    "select_ocf = eng.ocf_trc_fdpc(data_m, b_num);\n",
    "\n",
    "b = np.array(select_svd)\n",
    "\n",
    "print(b.reshape(1,b_num))\n",
    "print(np.delete(b.reshape(1,b_num),0))"
   ]
  },
  {
   "cell_type": "markdown",
   "metadata": {},
   "source": [
    "Algoritmo bombs"
   ]
  },
  {
   "cell_type": "code",
   "execution_count": null,
   "metadata": {},
   "outputs": [],
   "source": [
    "RESULTS_DIR = os.path.join(\n",
    "    os.getenv(\"Bombs_results\", os.path.join(\"..\", \"..\", \"results\")),\n",
    "    \"bombs_band_selection\"\n",
    ")\n",
    "\n",
    "arguments = Arguments(\n",
    "        bands_per_antibody=(i+1)*factor,\n",
    "        #Data\n",
    "        data_path=os.path.join(DATA_DIR_CORN, im_),\n",
    "        ref_map_path=os.path.join(DATA_DIR_CORN, gt_),\n",
    "        dest_path=RESULTS_DIR,\n",
    "        Gmax=6,\n",
    "        Na=10,\n",
    "        Nd=25,\n",
    "        Nc=25,\n",
    "        TD_size=30,\n",
    "        P_init_size=100,\n",
    "    )\n",
    "bands_bombs[i,:] = main(args=arguments)"
   ]
  },
  {
   "cell_type": "markdown",
   "metadata": {},
   "source": [
    "Algoritmo GCSR"
   ]
  },
  {
   "cell_type": "code",
   "execution_count": null,
   "metadata": {},
   "outputs": [],
   "source": [
    "alg_Ranking = EGCSR_BS_Ranking((i+1)*factor, regu_coef=1e2, n_neighbors=3, ro=0.8)\n",
    "selected_img = np.array(alg_Ranking.predict(X_img_2D), dtype=object)\n",
    "selected_bands = alg_Ranking.band_indx\n",
    "print(\"image shape: \", selected_img.shape)\n",
    "print(\"desired bands\",(i+1)*factor, \"Total bands\" , selected_bands.shape,\"\\n\")\n",
    "b, = selected_bands.shape\n",
    "print(selected_bands,\"\\n\")\n",
    "bands_GCSR[i,:b] = selected_bands"
   ]
  }
 ],
 "metadata": {
  "interpreter": {
   "hash": "5dedee583e3306fe361d3d9031f72d78970afcba49411a5639ba827d9c417e71"
  },
  "kernelspec": {
   "display_name": "Python 3.9.6 ('remote_sensing2')",
   "language": "python",
   "name": "python3"
  },
  "language_info": {
   "codemirror_mode": {
    "name": "ipython",
    "version": 3
   },
   "file_extension": ".py",
   "mimetype": "text/x-python",
   "name": "python",
   "nbconvert_exporter": "python",
   "pygments_lexer": "ipython3",
   "version": "3.9.6"
  },
  "orig_nbformat": 4
 },
 "nbformat": 4,
 "nbformat_minor": 2
}
