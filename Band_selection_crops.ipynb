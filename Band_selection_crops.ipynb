{
 "cells": [
  {
   "cell_type": "markdown",
   "metadata": {},
   "source": [
    "Library imports"
   ]
  },
  {
   "cell_type": "code",
   "execution_count": 1,
   "metadata": {},
   "outputs": [],
   "source": [
    "import os\n",
    "import numpy as np\n",
    "import pandas as pd\n",
    "from scipy.io import loadmat\n",
    "\n",
    "from Toolbox_GCSR.Preprocessing import Processor\n",
    "from sklearn.preprocessing import minmax_scale\n",
    "from Toolbox_GCSR.utility import eval_band, eval_band_cv\n",
    "from Toolbox_GCSR.EGCSR_BS_Ranking import EGCSR_BS_Ranking\n",
    "\n",
    "from Toolbox_bombs.runner import main\n",
    "from Toolbox_bombs.utils import Arguments\n",
    "\n",
    "import matlab.engine\n",
    "eng = matlab.engine.start_matlab()\n",
    "\n",
    "eng.addpath(eng.genpath(\"Toolbox_SVD\"));\n",
    "eng.addpath(eng.genpath(\"Toolbox_OCF\"));"
   ]
  },
  {
   "cell_type": "markdown",
   "metadata": {},
   "source": [
    "Data Importation and adequation"
   ]
  },
  {
   "cell_type": "code",
   "execution_count": 2,
   "metadata": {},
   "outputs": [],
   "source": [
    "root = 'D:\\Python\\HSI_Files\\\\'\n",
    "im_, gt_ = 'CornData', 'CornLabels'\n",
    "\n",
    "hsi_path = {'img_path': root + im_ + '.mat', 'gt_path': root + gt_ + '.mat'}\n",
    "\n",
    "#img_path = root + im_ + '.mat'\n",
    "#gt_path = root + gt_ + '.mat'\n"
   ]
  },
  {
   "cell_type": "markdown",
   "metadata": {},
   "source": [
    "Parameters and variables"
   ]
  },
  {
   "cell_type": "code",
   "execution_count": 3,
   "metadata": {},
   "outputs": [],
   "source": [
    "#dictionary for subsets selected from all algorithms\n",
    "bands_selected = {}\n",
    "\n",
    "#The number of iterations and number of selecte bands\n",
    "iter = 8\n",
    "factor = 4\n",
    "#each algorithm will select bands for each iter*factor number of bands\n",
    "\n",
    "bands_matrix = np.zeros((iter,factor*iter))"
   ]
  },
  {
   "cell_type": "markdown",
   "metadata": {},
   "source": [
    "Algoritmo SVD"
   ]
  },
  {
   "cell_type": "code",
   "execution_count": 4,
   "metadata": {},
   "outputs": [],
   "source": [
    "def svd(hsi_path, band_num):\n",
    "\n",
    "    data_m = eng.double(eng.importdata(hsi_path['img_path']))\n",
    "\n",
    "    select_svd = eng.svd_function(data_m, band_num);\n",
    "\n",
    "    bands = np.array(select_svd)\n",
    "\n",
    "    bands = bands.reshape(1,band_num)\n",
    "\n",
    "    bands = bands[0]\n",
    "\n",
    "    bands = bands + 1\n",
    "    \n",
    "    return bands"
   ]
  },
  {
   "cell_type": "markdown",
   "metadata": {},
   "source": [
    "Algoritmo OCF"
   ]
  },
  {
   "cell_type": "code",
   "execution_count": 5,
   "metadata": {},
   "outputs": [],
   "source": [
    "\n",
    "def ocf(hsi_path, band_num):\n",
    "\n",
    "    data_m = eng.double(eng.importdata(hsi_path['img_path']))\n",
    "\n",
    "    select_ocf = eng.ocf_trc_fdpc(data_m, band_num);\n",
    "\n",
    "    bands = np.array(select_ocf)\n",
    "\n",
    "    bands = bands.reshape(1,band_num)\n",
    "\n",
    "    bands = bands[0]\n",
    "\n",
    "    bands = bands + 1\n",
    "\n",
    "    return bands"
   ]
  },
  {
   "cell_type": "markdown",
   "metadata": {},
   "source": [
    "Algoritmo bombs"
   ]
  },
  {
   "cell_type": "code",
   "execution_count": 6,
   "metadata": {},
   "outputs": [],
   "source": [
    "RESULTS_DIR = os.path.join(\n",
    "    os.getenv(\"Bombs_results\", os.path.join(\"..\", \"..\", \"results\")),\n",
    "    \"bombs_band_selection\"\n",
    ")\n",
    "\n",
    "def bombs(hsi_path, bands_num):\n",
    "\n",
    "    arguments = Arguments(\n",
    "            bands_per_antibody=bands_num,\n",
    "            data_path = hsi_path['img_path'],\n",
    "            ref_map_path=hsi_path['gt_path'],\n",
    "            dest_path=RESULTS_DIR,\n",
    "            Gmax=6,\n",
    "            Na=10,\n",
    "            Nd=25,\n",
    "            Nc=25,\n",
    "            TD_size=30,\n",
    "            P_init_size=100,\n",
    "        )\n",
    "    return main(args=arguments)"
   ]
  },
  {
   "cell_type": "markdown",
   "metadata": {},
   "source": [
    "Algoritmo GCSR"
   ]
  },
  {
   "cell_type": "code",
   "execution_count": 7,
   "metadata": {},
   "outputs": [],
   "source": [
    "#\n",
    "def EGCSR(hsi_path, bands_num):\n",
    "\n",
    "    p = Processor()\n",
    "    hsi_data, _ = p.prepare_data(hsi_path['img_path'], hsi_path['gt_path'])\n",
    "\n",
    "    alg_Ranking = EGCSR_BS_Ranking(bands_num, regu_coef=1e2, n_neighbors=3, ro=0.8)\n",
    "    alg_Ranking.predict(hsi_data)\n",
    "    return alg_Ranking.band_indx\n"
   ]
  },
  {
   "cell_type": "markdown",
   "metadata": {},
   "source": [
    "processing functions"
   ]
  },
  {
   "cell_type": "code",
   "execution_count": 8,
   "metadata": {},
   "outputs": [],
   "source": [
    "BS_functions = []\n",
    "BS_functions.append(EGCSR)\n",
    "BS_functions.append(bombs)\n",
    "BS_functions.append(svd)\n",
    "BS_functions.append(ocf)\n",
    "\n",
    "for i in range(len(BS_functions)):\n",
    "\n",
    "    bands_selected[BS_functions[i].__name__] = bands_matrix"
   ]
  },
  {
   "cell_type": "markdown",
   "metadata": {},
   "source": [
    "band selectrion process"
   ]
  },
  {
   "cell_type": "code",
   "execution_count": 9,
   "metadata": {},
   "outputs": [
    {
     "name": "stdout",
     "output_type": "stream",
     "text": [
      "EGCSR START\n",
      "band index: [ 892  890  891 1248]\n",
      "band indexlength: 4\n",
      "band index: [ 888  894  893  889  892  890  891 1248]\n",
      "band indexlength: 8\n",
      "band index: [ 886  896  887  895  888  894  893  889  892  890  891 1248]\n",
      "band indexlength: 12\n",
      "band index: [ 899  885  898  897  886  896  887  895  888  894  893  889  892  890\n",
      "  891 1248]\n",
      "band indexlength: 16\n",
      "band index: [ 901  883  900  884  899  885  898  897  886  896  887  895  888  894\n",
      "  893  889  892  890  891 1248]\n",
      "band indexlength: 20\n",
      "band index: [ 419  903  882  902  901  883  900  884  899  885  898  897  886  896\n",
      "  887  895  888  894  893  889  892  890  891 1248]\n",
      "band indexlength: 24\n",
      "band index: [ 416  417  420  418  419  903  882  902  901  883  900  884  899  885\n",
      "  898  897  886  896  887  895  888  894  893  889  892  890  891 1248]\n",
      "band indexlength: 28\n",
      "band index: [ 422  414  415  421  416  417  420  418  419  903  882  902  901  883\n",
      "  900  884  899  885  898  897  886  896  887  895  888  894  893  889\n",
      "  892  890  891 1248]\n",
      "band indexlength: 32\n",
      "EGCSR ENDS\n",
      "bombs START\n",
      "Generation: 1/6\n",
      "Generation: 2/6\n",
      "Generation: 3/6\n",
      "Generation: 4/6\n",
      "Generation: 5/6\n",
      "Generation: 6/6\n",
      "Bail...\n",
      "Final 4 selected bands:\n",
      "Bands of the best individual in the whole population: [ 893 1248 1249 1250]\n",
      "Entropy: 7.129378093162053 Distance: 13.530486515307858\n",
      "Generation: 1/6\n",
      "Generation: 2/6\n",
      "Generation: 3/6\n",
      "Generation: 4/6\n",
      "Generation: 5/6\n",
      "Generation: 6/6\n",
      "Bail...\n",
      "Final 8 selected bands:\n",
      "Bands of the best individual in the whole population: [ 863  946 1009 1040 1109 1187 1229 1230]\n",
      "Entropy: 7.10504272564263 Distance: 13.342721002649052\n",
      "Generation: 1/6\n",
      "Generation: 2/6\n",
      "Generation: 3/6\n",
      "Generation: 4/6\n",
      "Generation: 5/6\n",
      "Generation: 6/6\n",
      "Bail...\n",
      "Final 12 selected bands:\n",
      "Bands of the best individual in the whole population: [ 998 1048 1097 1138 1156 1180 1194 1197 1202 1229 1231 1247]\n",
      "Entropy: 7.077512823600892 Distance: 13.233777570826184\n",
      "Generation: 1/6\n",
      "Generation: 2/6\n",
      "Generation: 3/6\n",
      "Generation: 4/6\n",
      "Generation: 5/6\n",
      "Generation: 6/6\n",
      "Bail...\n",
      "Final 16 selected bands:\n",
      "Bands of the best individual in the whole population: [   8  895  941 1045 1071 1171 1207 1214 1216 1222 1230 1232 1234 1242\n",
      " 1245 1246]\n",
      "Entropy: 7.06933631738104 Distance: 13.07691921290827\n",
      "Generation: 1/6\n",
      "Generation: 2/6\n",
      "Generation: 3/6\n",
      "Generation: 4/6\n",
      "Generation: 5/6\n",
      "Generation: 6/6\n",
      "Bail...\n",
      "Final 20 selected bands:\n",
      "Bands of the best individual in the whole population: [ 239  680  849  865 1021 1109 1138 1147 1158 1186 1207 1216 1222 1223\n",
      " 1229 1230 1237 1242 1245 1250]\n",
      "Entropy: 7.065922462800222 Distance: 13.078969366649401\n",
      "Generation: 1/6\n",
      "Generation: 2/6\n",
      "Generation: 3/6\n",
      "Generation: 4/6\n",
      "Generation: 5/6\n",
      "Generation: 6/6\n",
      "Bail...\n",
      "Final 24 selected bands:\n",
      "Bands of the best individual in the whole population: [   7   10   24   57  917 1053 1061 1063 1156 1159 1170 1180 1182 1189\n",
      " 1196 1199 1207 1223 1228 1229 1233 1237 1238 1239]\n",
      "Entropy: 6.987508926091441 Distance: 12.646166669362085\n",
      "Generation: 1/6\n",
      "Generation: 2/6\n",
      "Generation: 3/6\n",
      "Generation: 4/6\n",
      "Generation: 5/6\n",
      "Generation: 6/6\n",
      "Bail...\n",
      "Final 28 selected bands:\n",
      "Bands of the best individual in the whole population: [  34   98  277  546  613  639  663  978  980  991 1020 1066 1071 1075\n",
      " 1097 1112 1153 1174 1178 1204 1210 1226 1230 1237 1238 1239 1242 1246]\n",
      "Entropy: 6.947446950315849 Distance: 12.730722773007491\n",
      "Generation: 1/6\n",
      "Generation: 2/6\n",
      "Generation: 3/6\n",
      "Generation: 4/6\n",
      "Generation: 5/6\n",
      "Generation: 6/6\n",
      "Bail...\n",
      "Final 32 selected bands:\n",
      "Bands of the best individual in the whole population: [  11  322  483  675  943 1004 1079 1124 1126 1141 1148 1151 1152 1164\n",
      " 1166 1178 1190 1193 1201 1217 1221 1223 1226 1233 1234 1235 1236 1237\n",
      " 1240 1242 1247 1250]\n",
      "Entropy: 7.032116218871092 Distance: 12.94957917176471\n",
      "bombs ENDS\n",
      "svd START\n",
      "svd ENDS\n",
      "ocf START\n"
     ]
    }
   ],
   "source": [
    "for alg in BS_functions:\n",
    "\n",
    "    print(alg.__name__ + ' START')\n",
    "    for i in range(iter):\n",
    "        \n",
    "        band_count = (i+1)*factor\n",
    "\n",
    "        alg_bands = alg(hsi_path, band_count)\n",
    "\n",
    "        bands_selected[alg.__name__][i,:len(alg_bands)] = alg_bands\n",
    "\n",
    "    print(alg.__name__ + ' ENDS')"
   ]
  },
  {
   "cell_type": "code",
   "execution_count": null,
   "metadata": {},
   "outputs": [],
   "source": []
  }
 ],
 "metadata": {
  "interpreter": {
   "hash": "5dedee583e3306fe361d3d9031f72d78970afcba49411a5639ba827d9c417e71"
  },
  "kernelspec": {
   "display_name": "Python 3.9.6 ('remote_sensing2')",
   "language": "python",
   "name": "python3"
  },
  "language_info": {
   "codemirror_mode": {
    "name": "ipython",
    "version": 3
   },
   "file_extension": ".py",
   "mimetype": "text/x-python",
   "name": "python",
   "nbconvert_exporter": "python",
   "pygments_lexer": "ipython3",
   "version": "3.9.6"
  },
  "orig_nbformat": 4
 },
 "nbformat": 4,
 "nbformat_minor": 2
}
