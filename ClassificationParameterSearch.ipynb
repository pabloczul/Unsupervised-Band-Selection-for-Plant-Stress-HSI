{
 "cells": [
  {
   "cell_type": "code",
   "execution_count": null,
   "metadata": {},
   "outputs": [],
   "source": [
    "import os\n",
    "import numpy as np\n",
    "import pandas as pd\n",
    "from scipy.io import loadmat\n",
    "from scipy.io import savemat\n",
    "from pathlib import Path\n",
    "\n",
    "# classification and visualizarion imports\n",
    "import utils\n",
    "import seaborn as sn\n",
    "import matplotlib.pyplot as plt\n",
    "from sklearn import svm\n",
    "from sklearn.ensemble import RandomForestClassifier\n",
    "from sklearn.neural_network import MLPClassifier\n",
    "from sklearn.model_selection import train_test_split\n",
    "from sklearn import metrics\n",
    "\n",
    "from sklearn.pipeline import Pipeline\n",
    "from sklearn.model_selection import GridSearchCV\n",
    "from sklearn.linear_model import SGDClassifier\n",
    "from sklearn.metrics import accuracy_score\n",
    "from sklearn.preprocessing import StandardScaler\n",
    "from sklearn.preprocessing import MinMaxScaler\n",
    "from sklearn.svm import SVC\n",
    "from sklearn.metrics import confusion_matrix\n",
    "from sklearn.metrics import plot_confusion_matrix"
   ]
  },
  {
   "cell_type": "code",
   "execution_count": null,
   "metadata": {},
   "outputs": [],
   "source": [
    "#Spectral dataset must be in .mat files, for signatires matrix should be (samples, wavelengths)\n",
    "\n",
    "#Load from .mat\n",
    "\n",
    "#root for datasets\n",
    "pwdpath=os.getcwd()\n",
    "root = f\"{pwdpath}\\HSI_Files\\\\\"\n",
    "\n",
    "datasetName = \"Corn20220623\"\n",
    "\n",
    "im_, gt_ = f'{datasetName}Data', f'{datasetName}Labels'\n",
    "#results dir\n",
    "result = f'{pwdpath}\\Masters_Results\\{datasetName}\\\\'\n",
    "\n",
    "\n",
    "hsi_path = {'img_path': f'{root}{im_}.mat', 'gt_path': f'{root}{gt_}.mat'}"
   ]
  },
  {
   "cell_type": "code",
   "execution_count": null,
   "metadata": {},
   "outputs": [],
   "source": [
    "#Load saved selected bands\n",
    "saved_bands = loadmat(datasetName + \"Bands.mat\")\n",
    "bands_selected = {}\n",
    "for key in saved_bands.keys():\n",
    "    if \"__\" not in key:\n",
    "        bands_selected[key] = np.array(saved_bands[key])\n",
    "print(bands_selected)"
   ]
  },
  {
   "cell_type": "code",
   "execution_count": null,
   "metadata": {},
   "outputs": [],
   "source": [
    "#Random Forest Grid Search parameters\n",
    "steps_RF = [('scaler',MinMaxScaler()),('classifier',RandomForestClassifier())]\n",
    "pipe_RF = Pipeline(steps_RF)\n",
    "\n",
    "n_estimators = [50,100,400]\n",
    "max_features = ['auto']\n",
    "max_depth = [6, 30, 60]\n",
    "min_samples_split = [2, 6, 10]\n",
    "min_samples_leaf = [3]\n",
    "\n",
    "param_grid_RF = dict(classifier__n_estimators = n_estimators,\n",
    "                  classifier__max_features = max_features,\n",
    "                  classifier__max_depth = max_depth,\n",
    "                  classifier__min_samples_split = min_samples_split,\n",
    "                  classifier__min_samples_leaf = min_samples_leaf\n",
    "                  )\n",
    "\n",
    "RF = GridSearchCV(pipe_RF, param_grid=param_grid_RF,refit = True, n_jobs=4, verbose = 5)"
   ]
  },
  {
   "cell_type": "code",
   "execution_count": null,
   "metadata": {},
   "outputs": [],
   "source": [
    "#SVM Grid Search parameters\n",
    "\n",
    "param_grid_SVM = {'C': [1000, 2000], 'gamma': [1],\n",
    "'kernel': ['rbf', 'poly'], 'degree':[2,5,10]}\n",
    "\n",
    "SVM = GridSearchCV(svm.SVC(), param_grid=param_grid_SVM,refit = True, n_jobs=4, verbose = 5)"
   ]
  },
  {
   "cell_type": "code",
   "execution_count": null,
   "metadata": {},
   "outputs": [],
   "source": [
    "#Multi layer perceptron Grid Search parameters\n",
    "\n",
    "param_grid_MLP = {\n",
    "    'hidden_layer_sizes': [ (500,300,100,50), (1000,500,300,100,50), (2000,500,50), (2000,500,250,100,50,20)],\n",
    "    'activation': ['relu'],\n",
    "    'alpha': [0.00000001,0.0000001,0.000001]\n",
    "}\n",
    "\n",
    "MLP = GridSearchCV(MLPClassifier(), param_grid=param_grid_MLP,refit = True, n_jobs=4, verbose = 5)"
   ]
  },
  {
   "cell_type": "code",
   "execution_count": null,
   "metadata": {},
   "outputs": [],
   "source": [
    "#Loading Data and labels\n",
    "Labels = loadmat(hsi_path['gt_path'])\n",
    "for key in Labels.keys():\n",
    "    if \"__\" not in key:\n",
    "        Labels = Labels[key]\n",
    "        break\n",
    "Labels = np.array(Labels)\n",
    "\n",
    "if Labels.shape[0] < Labels.shape[1]:\n",
    "    Labels = Labels.T\n",
    "\n",
    "Data = loadmat(hsi_path['img_path'])\n",
    "for key in Data.keys():\n",
    "    if \"__\" not in key:\n",
    "        Data = Data[key]\n",
    "        break\n",
    "Data = np.array(Data)\n",
    "\n",
    "if Data.shape[0] != Labels.shape[0]:\n",
    "    Data = Data.T\n",
    "\n",
    "Data_filtered = []\n",
    "Labels_filtered = []\n",
    "\n",
    "for i in range(Data.shape[0]):\n",
    "    #ignoring middle classes to classifie with two\n",
    "    #if Labels[i] == 1 or Labels[i] == 4:\n",
    "        \n",
    "    Data_filtered.append(Data[i,:])\n",
    "    Labels_filtered.append(Labels[i])\n",
    "\n",
    "Data = np.array(Data_filtered)\n",
    "Labels = np.array(Labels_filtered)\n",
    "\n",
    "#dictionary to save classifier algorithms objects, must have .fit and a .predict methods\n",
    "Classifiers = {}\n",
    "Classifiers[\"RF\"] = RF\n",
    "Classifiers[\"SVM\"] = SVM\n",
    "Classifiers[\"MLP\"] = MLP\n",
    "\n",
    "Accuracy_values = {}\n",
    "Best_parameters = {}\n",
    "\n",
    "for c in Classifiers:\n",
    "    Accuracy_values[c] = {}\n",
    "    Best_parameters[c] = {}\n",
    "\n",
    "    for alg in bands_selected:\n",
    "        Accuracy_values[c][alg] = []\n",
    "        Best_parameters[c][alg] = []\n"
   ]
  },
  {
   "cell_type": "code",
   "execution_count": null,
   "metadata": {},
   "outputs": [],
   "source": [
    "iter = 8\n",
    "factor = 4\n",
    "        \n",
    "#reduction algorithm\n",
    "#alg = \"ocf\"\n",
    "#alg = \"bombs\"\n",
    "alg = \"svd\"\n",
    "\n",
    "#number of bands\n",
    "b_count = 20\n",
    "\n",
    "i = int((b_count/factor) - 1)\n",
    "\n",
    "#takes selected bands from dataset\n",
    "DataSelected = Data[:,bands_selected[alg][i,0:b_count]]\n",
    "\n",
    "# Split dataset into training set and test set\n",
    "X_train, X_test, y_train, y_test = train_test_split(DataSelected, Labels,\n",
    "                                                    test_size=0.2, random_state=11, stratify = Labels)\n"
   ]
  },
  {
   "cell_type": "code",
   "execution_count": null,
   "metadata": {},
   "outputs": [],
   "source": [
    "RF.fit(X_train, y_train.ravel())"
   ]
  },
  {
   "cell_type": "code",
   "execution_count": null,
   "metadata": {},
   "outputs": [],
   "source": [
    "RF.best_params_\n"
   ]
  },
  {
   "cell_type": "code",
   "execution_count": null,
   "metadata": {},
   "outputs": [],
   "source": [
    "RF.best_score_"
   ]
  },
  {
   "cell_type": "code",
   "execution_count": null,
   "metadata": {},
   "outputs": [],
   "source": [
    "SVM.fit(X_train, y_train.ravel())"
   ]
  },
  {
   "cell_type": "code",
   "execution_count": null,
   "metadata": {},
   "outputs": [],
   "source": [
    "SVM.best_params_"
   ]
  },
  {
   "cell_type": "code",
   "execution_count": null,
   "metadata": {},
   "outputs": [],
   "source": [
    "SVM.best_score_"
   ]
  },
  {
   "cell_type": "code",
   "execution_count": null,
   "metadata": {},
   "outputs": [],
   "source": [
    "MLP.fit(X_train, y_train.ravel())"
   ]
  },
  {
   "cell_type": "code",
   "execution_count": null,
   "metadata": {},
   "outputs": [],
   "source": [
    "MLP.best_params_\n"
   ]
  },
  {
   "cell_type": "code",
   "execution_count": null,
   "metadata": {},
   "outputs": [],
   "source": [
    "MLP.best_score_"
   ]
  },
  {
   "cell_type": "code",
   "execution_count": null,
   "metadata": {},
   "outputs": [],
   "source": []
  }
 ],
 "metadata": {
  "kernelspec": {
   "display_name": "Python 3.9.12 ('ai')",
   "language": "python",
   "name": "python3"
  },
  "language_info": {
   "codemirror_mode": {
    "name": "ipython",
    "version": 3
   },
   "file_extension": ".py",
   "mimetype": "text/x-python",
   "name": "python",
   "nbconvert_exporter": "python",
   "pygments_lexer": "ipython3",
   "version": "3.9.12"
  },
  "orig_nbformat": 4,
  "vscode": {
   "interpreter": {
    "hash": "caed13605e53eb35d6b9773eea389f3214f7b2918db3fc1779ae048d6a15861c"
   }
  }
 },
 "nbformat": 4,
 "nbformat_minor": 2
}
