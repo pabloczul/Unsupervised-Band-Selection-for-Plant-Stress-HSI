{
 "cells": [
  {
   "cell_type": "code",
   "execution_count": 1,
   "metadata": {},
   "outputs": [],
   "source": [
    "from Toolbox_GCSR.Preprocessing import Processor\n",
    "from sklearn.preprocessing import minmax_scale\n",
    "import numpy as np\n",
    "from Toolbox_GCSR.utility import eval_band, eval_band_cv\n",
    "from Toolbox_GCSR.EGCSR_BS_Ranking import EGCSR_BS_Ranking\n",
    "from pathlib import Path\n",
    "import pandas as pd\n",
    "from scipy.io import loadmat\n",
    "import time\n",
    "\n",
    "\n",
    "# im_, gt_ = 'Pavia', 'Pavia_gt'\n",
    "# im_, gt_ = 'PaviaU', 'PaviaU_gt'\n",
    "# im_, gt_ = 'Salinas_corrected', 'Salinas_gt'\n",
    "# im_, gt_ = 'Botswana', 'Botswana_gt'\n",
    "# im_, gt_ = 'KSC', 'KSC_gt'"
   ]
  },
  {
   "cell_type": "code",
   "execution_count": 2,
   "metadata": {},
   "outputs": [],
   "source": [
    "#Test to turn corn spectral firms into squeare matrix"
   ]
  },
  {
   "cell_type": "code",
   "execution_count": 3,
   "metadata": {},
   "outputs": [
    {
     "data": {
      "text/plain": [
       "'\\nCornData = loadmat(\\'CornData.mat\\')[\\'Corn\\']\\nCornData = CornData.T\\nCornLabelPath = Path(r\"C:\\\\Datasets\\\\Corn2021\\r-septiembre-2021\\\\Identificador.txt\")\\nCornLabels = pd.read_csv(CornLabelPath, sep = \\',\\', header = [0])\\n'"
      ]
     },
     "execution_count": 3,
     "metadata": {},
     "output_type": "execute_result"
    }
   ],
   "source": [
    "root = 'D:\\Python\\HSI_Files\\\\'\n",
    "im_, gt_ = 'CornData', 'CornLabels'\n",
    "\n",
    "'''\n",
    "CornData = loadmat('CornData.mat')['Corn']\n",
    "CornData = CornData.T\n",
    "CornLabelPath = Path(r\"C:\\Datasets\\Corn2021\\15-septiembre-2021\\Identificador.txt\")\n",
    "CornLabels = pd.read_csv(CornLabelPath, sep = ',', header = [0])\n",
    "'''"
   ]
  },
  {
   "cell_type": "code",
   "execution_count": 4,
   "metadata": {},
   "outputs": [
    {
     "name": "stdout",
     "output_type": "stream",
     "text": [
      "D:\\Python\\HSI_Files\\CornData.mat\n",
      "<class 'numpy.ndarray'> <class 'numpy.ndarray'>\n",
      "(447, 1251) (447, 1)\n"
     ]
    }
   ],
   "source": [
    "img_path = root + im_ + '.mat'\n",
    "gt_path = root + gt_ + '.mat'\n",
    "print(img_path)\n",
    "\n",
    "p = Processor()\n",
    "img, gt = p.prepare_data(img_path, gt_path)\n",
    "\n",
    "print(type(img), type(gt))\n",
    "print(img.shape, gt.shape)\n",
    "\n",
    "n_column, n_band = img.shape\n",
    "X_img = minmax_scale(img.reshape(n_column, n_band).transpose())\n",
    "X_img = X_img.transpose().reshape((n_column, n_band))\n",
    "img_correct, gt_correct = p.get_correct2D(X_img, gt)\n",
    "gt_correct = p.standardize_label(gt_correct)\n",
    "X_img_2D = X_img.reshape(n_column, n_band)\n",
    "X_img_2D = minmax_scale(X_img_2D.transpose()).transpose()\n"
   ]
  },
  {
   "cell_type": "code",
   "execution_count": 5,
   "metadata": {},
   "outputs": [
    {
     "name": "stdout",
     "output_type": "stream",
     "text": [
      "band index: [1045 1048 1047 1046 1248]\n",
      "band indexlength: 5\n",
      "EGCSR-Clustering knn:  41.6900 + 1.8800\n",
      "EGCSR-Clustering svm:  52.3600 + 1.4500\n",
      "-------------------------------------------\n"
     ]
    }
   ],
   "source": [
    "n_selected_band = 5\n",
    "\n",
    "algorithm = [\n",
    "                #EGCSR_BS_Clustering(n_selected_band, regu_coef=1e4, n_neighbors=3, ro=0.8),\n",
    "                EGCSR_BS_Ranking(n_selected_band, regu_coef=1e4, n_neighbors=3, ro=0.8)\n",
    "                ]\n",
    "\n",
    "alg_key = ['EGCSR-Clustering', 'EGCSR-Ranking']\n",
    "for i in range(algorithm.__len__()):\n",
    "    time_start = time.process_time()\n",
    "    X_new = np.array(algorithm[i].predict(X_img_2D), dtype=\"object\")\n",
    "    run_time = round(time.process_time() - time_start)\n",
    "    # if X_new.shape[0] < n_selected_band:\n",
    "\n",
    "    #Creates new image with selected bands\n",
    "    #TODO: Fix IndexError: tuple index out of range\n",
    "    #X_new_3D = X_new.reshape((n_row, n_column, X_new.shape[1]))\n",
    "    \n",
    "    gt_correct = p.standardize_label(gt_correct)\n",
    "    score = eval_band_cv(img_correct, gt_correct, times=10)\n",
    "    print('%s knn:  %.4f + %.4f' % (alg_key[i], score['knn']['oa'][0], score['knn']['oa'][1]))\n",
    "    print('%s svm:  %.4f + %.4f' % (alg_key[i], score['svm']['oa'][0], score['svm']['oa'][1]))\n",
    "    print('-------------------------------------------')\n"
   ]
  },
  {
   "cell_type": "code",
   "execution_count": 13,
   "metadata": {},
   "outputs": [
    {
     "name": "stdout",
     "output_type": "stream",
     "text": [
      "band index: [1203 1199 1200 1201 1202]\n",
      "band indexlength: 5\n",
      "image shape:  (447, 5)\n",
      "desired bands 5 Total bands (5,) \n",
      "\n",
      "[1203 1199 1200 1201 1202] \n",
      "\n",
      "band index: [1138  427 1198 1137  399 1203 1199 1200 1201 1202]\n",
      "band indexlength: 10\n",
      "image shape:  (447, 10)\n",
      "desired bands 10 Total bands (10,) \n",
      "\n",
      "[1138  427 1198 1137  399 1203 1199 1200 1201 1202] \n",
      "\n",
      "band index: [ 219  221  401  428  400 1138  427 1198 1137  399 1203 1199 1200 1201\n",
      " 1202]\n",
      "band indexlength: 15\n",
      "image shape:  (447, 15)\n",
      "desired bands 15 Total bands (15,) \n",
      "\n",
      "[ 219  221  401  428  400 1138  427 1198 1137  399 1203 1199 1200 1201\n",
      " 1202] \n",
      "\n"
     ]
    },
    {
     "ename": "IndexError",
     "evalue": "index 2 is out of bounds for axis 0 with size 2",
     "output_type": "error",
     "traceback": [
      "\u001b[1;31m---------------------------------------------------------------------------\u001b[0m",
      "\u001b[1;31mIndexError\u001b[0m                                Traceback (most recent call last)",
      "\u001b[1;32m~\\AppData\\Local\\Temp/ipykernel_19840/3950748967.py\u001b[0m in \u001b[0;36m<module>\u001b[1;34m\u001b[0m\n\u001b[0;32m     13\u001b[0m     \u001b[0mb\u001b[0m\u001b[1;33m,\u001b[0m \u001b[1;33m=\u001b[0m \u001b[0mselected_bands\u001b[0m\u001b[1;33m.\u001b[0m\u001b[0mshape\u001b[0m\u001b[1;33m\u001b[0m\u001b[1;33m\u001b[0m\u001b[0m\n\u001b[0;32m     14\u001b[0m     \u001b[0mprint\u001b[0m\u001b[1;33m(\u001b[0m\u001b[0mselected_bands\u001b[0m\u001b[1;33m,\u001b[0m\u001b[1;34m\"\\n\"\u001b[0m\u001b[1;33m)\u001b[0m\u001b[1;33m\u001b[0m\u001b[1;33m\u001b[0m\u001b[0m\n\u001b[1;32m---> 15\u001b[1;33m     \u001b[0mbands_GCSR\u001b[0m\u001b[1;33m[\u001b[0m\u001b[0mi\u001b[0m\u001b[1;33m,\u001b[0m\u001b[1;33m:\u001b[0m\u001b[0mb\u001b[0m\u001b[1;33m]\u001b[0m \u001b[1;33m=\u001b[0m \u001b[0mselected_bands\u001b[0m\u001b[1;33m\u001b[0m\u001b[1;33m\u001b[0m\u001b[0m\n\u001b[0m\u001b[0;32m     16\u001b[0m \u001b[1;33m\u001b[0m\u001b[0m\n",
      "\u001b[1;31mIndexError\u001b[0m: index 2 is out of bounds for axis 0 with size 2"
     ]
    }
   ],
   "source": [
    "#Selecting bands with Ranking algorithm\n",
    "iterations = 2\n",
    "factor = 5\n",
    "\n",
    "bands_GCSR = np.zeros((iterations,iterations * factor))\n",
    "\n",
    "for i in range(4):\n",
    "    alg_Ranking = EGCSR_BS_Ranking((i+1)*factor, regu_coef=1e2, n_neighbors=3, ro=0.8)\n",
    "    selected_img = np.array(alg_Ranking.predict(X_img_2D), dtype=object)\n",
    "    selected_bands = alg_Ranking.band_indx\n",
    "    print(\"image shape: \", selected_img.shape)\n",
    "    print(\"desired bands\",(i+1)*factor, \"Total bands\" , selected_bands.shape,\"\\n\")\n",
    "    b, = selected_bands.shape\n",
    "    print(selected_bands,\"\\n\")\n",
    "    bands_GCSR[i,:b] = selected_bands\n",
    "\n"
   ]
  },
  {
   "cell_type": "code",
   "execution_count": null,
   "metadata": {},
   "outputs": [],
   "source": [
    "#saves selected bands\n",
    "np.save(\"bands_GCSR\", bands_GCSR)"
   ]
  }
 ],
 "metadata": {
  "interpreter": {
   "hash": "5dedee583e3306fe361d3d9031f72d78970afcba49411a5639ba827d9c417e71"
  },
  "kernelspec": {
   "display_name": "Python 3.9.6 ('remote_sensing2')",
   "language": "python",
   "name": "python3"
  },
  "language_info": {
   "codemirror_mode": {
    "name": "ipython",
    "version": 3
   },
   "file_extension": ".py",
   "mimetype": "text/x-python",
   "name": "python",
   "nbconvert_exporter": "python",
   "pygments_lexer": "ipython3",
   "version": "3.9.6"
  },
  "orig_nbformat": 4
 },
 "nbformat": 4,
 "nbformat_minor": 2
}
