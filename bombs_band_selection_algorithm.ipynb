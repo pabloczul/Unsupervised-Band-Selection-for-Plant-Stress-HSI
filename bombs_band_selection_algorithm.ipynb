{
 "cells": [
  {
   "cell_type": "markdown",
   "metadata": {},
   "source": [
    "<font size=\"5\">BOMBS band selection algorithm</font>\n",
    "=\n",
    "This is a multi-objective immune algorithm, where one objective function measures the amount of information (**entropy** of spectral band), and the other redundancy contained in the selected bands set, (**distance** which is based on **cross entropy**).\n",
    "In order to run BOMBS band selection algorithm, number of arguments need to be specifed:\n",
    "* `bands_per_antibody` - Number of bands to select.\n",
    "* `data_path` - Path to the dataset, which can be either a *matlab* or *numpy* file.\n",
    "* `ref_map_path` - Path to the reference map, i.e. the ground truth map, which can be either a *matlab* or *numpy* file.\n",
    "* `dest_path` - Destination path of the directory designed for storing artifacts.\n",
    "* `Gmax` - Maximum number of iterations of the algorithm-this is the stopping condition.\n",
    "* `Na` - Maximum size of active population.\n",
    "* `Nd` - Maximum size of dominant population.\n",
    "* `Nc` - Maximum size of clone population.\n",
    "* `TD_size` - Initial size of temporary dominant population.\n",
    "* `P_init_size` - Initial size of population *P*.\n",
    "\n",
    "[Link to paper](https://www.sciencedirect.com/science/article/pii/S1568494618303326)"
   ]
  },
  {
   "cell_type": "code",
   "execution_count": 1,
   "metadata": {},
   "outputs": [],
   "source": [
    "import os\n",
    "import numpy as np\n",
    "from pathlib import Path\n",
    "import pandas as pd\n",
    "from scipy.io import loadmat\n",
    "\n",
    "\n",
    "DATA_DIR_KSC = os.getenv(\"HYPERNET_DATA_DIR\", os.path.join(\"C:\\Datasets\\KennedySpaceCenter\"))\n",
    "DATA_DIR = os.getenv(\"HYPERNET_DATA_DIR\", os.path.join(\"C:\\Datasets\\IndianPines\"))\n",
    "RESULTS_DIR = os.path.join(\n",
    "    os.getenv(\"HYPERNET_RESULTS_DIR\", os.path.join(\"..\", \"..\", \"hypernet-data\", \"results\")),\n",
    "    \"bombs_band_selection\"\n",
    ")\n"
   ]
  },
  {
   "cell_type": "code",
   "execution_count": 2,
   "metadata": {},
   "outputs": [],
   "source": [
    "root = 'D:\\Python\\HSI_Files\\\\'\n",
    "im_, gt_ = 'CornData.mat', 'CornLabels.mat'\n",
    "\n",
    "DATA_DIR_CORN = os.getenv(\"HYPERNET_DATA_DIR\", os.path.join(root))"
   ]
  },
  {
   "cell_type": "code",
   "execution_count": 3,
   "metadata": {},
   "outputs": [
    {
     "ename": "TypeError",
     "evalue": "<lambda>() missing 1 required positional argument: 'dest_path'",
     "output_type": "error",
     "traceback": [
      "\u001b[1;31m---------------------------------------------------------------------------\u001b[0m",
      "\u001b[1;31mTypeError\u001b[0m                                 Traceback (most recent call last)",
      "\u001b[1;32m~\\AppData\\Local\\Temp/ipykernel_20620/1099776540.py\u001b[0m in \u001b[0;36m<module>\u001b[1;34m\u001b[0m\n\u001b[0;32m      8\u001b[0m \u001b[1;33m\u001b[0m\u001b[0m\n\u001b[0;32m      9\u001b[0m \u001b[1;32mfor\u001b[0m \u001b[0mi\u001b[0m \u001b[1;32min\u001b[0m \u001b[0mrange\u001b[0m\u001b[1;33m(\u001b[0m\u001b[0miterations\u001b[0m\u001b[1;33m)\u001b[0m\u001b[1;33m:\u001b[0m\u001b[1;33m\u001b[0m\u001b[1;33m\u001b[0m\u001b[0m\n\u001b[1;32m---> 10\u001b[1;33m     arguments = Arguments(\n\u001b[0m\u001b[0;32m     11\u001b[0m         \u001b[0mbands_per_antibody\u001b[0m\u001b[1;33m=\u001b[0m\u001b[1;33m(\u001b[0m\u001b[0mi\u001b[0m\u001b[1;33m+\u001b[0m\u001b[1;36m1\u001b[0m\u001b[1;33m)\u001b[0m\u001b[1;33m*\u001b[0m\u001b[0mfactor\u001b[0m\u001b[1;33m,\u001b[0m\u001b[1;33m\u001b[0m\u001b[1;33m\u001b[0m\u001b[0m\n\u001b[0;32m     12\u001b[0m         \u001b[1;31m#Indian pines dataset\u001b[0m\u001b[1;33m\u001b[0m\u001b[1;33m\u001b[0m\u001b[1;33m\u001b[0m\u001b[0m\n",
      "\u001b[1;31mTypeError\u001b[0m: <lambda>() missing 1 required positional argument: 'dest_path'"
     ]
    }
   ],
   "source": [
    "from Toolbox_bombs.runner import main\n",
    "from Toolbox_bombs.utils import Arguments\n",
    "\n",
    "iterations = 4\n",
    "factor = 8\n",
    "\n",
    "bands_bombs = np.zeros((iterations,50))\n",
    "\n",
    "for i in range(iterations):\n",
    "    arguments = Arguments(\n",
    "        bands_per_antibody=(i+1)*factor,\n",
    "        #Indian pines dataset\n",
    "        #data_path=os.path.join(DATA_DIR, 'Indian_pines_corrected.mat'),\n",
    "        #ref_map_path=os.path.join(DATA_DIR, 'Indian_pines_gt.mat'),\n",
    "        #CORN data\n",
    "        data_path=os.path.join(DATA_DIR_CORN, im_),\n",
    "        ref_map_path=os.path.join(DATA_DIR_CORN, gt_),\n",
    "        dest_path=RESULTS_DIR,\n",
    "        Gmax=6,\n",
    "        Na=10,\n",
    "        Nd=25,\n",
    "        Nc=25,\n",
    "        TD_size=30,\n",
    "        P_init_size=100,\n",
    "    )\n",
    "    bands_bombs[i,:] = main(args=arguments)\n",
    "   \n"
   ]
  },
  {
   "cell_type": "code",
   "execution_count": 16,
   "metadata": {},
   "outputs": [],
   "source": [
    "#Kennedy space center\n",
    "np.save(\"bands_bombs\", bands_bombs)\n",
    "#Indian pines\n",
    "#np.save(\"bands_bombs_indian202112\", bands_bombs)"
   ]
  },
  {
   "cell_type": "code",
   "execution_count": null,
   "metadata": {},
   "outputs": [],
   "source": []
  }
 ],
 "metadata": {
  "interpreter": {
   "hash": "5dedee583e3306fe361d3d9031f72d78970afcba49411a5639ba827d9c417e71"
  },
  "kernelspec": {
   "display_name": "Python 3.9.6 ('remote_sensing2')",
   "language": "python",
   "name": "python3"
  },
  "language_info": {
   "codemirror_mode": {
    "name": "ipython",
    "version": 3
   },
   "file_extension": ".py",
   "mimetype": "text/x-python",
   "name": "python",
   "nbconvert_exporter": "python",
   "pygments_lexer": "ipython3",
   "version": "3.9.6"
  }
 },
 "nbformat": 4,
 "nbformat_minor": 1
}
